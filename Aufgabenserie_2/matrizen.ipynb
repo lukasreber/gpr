{
 "metadata": {
  "language_info": {
   "codemirror_mode": {
    "name": "ipython",
    "version": 3
   },
   "file_extension": ".py",
   "mimetype": "text/x-python",
   "name": "python",
   "nbconvert_exporter": "python",
   "pygments_lexer": "ipython3",
   "version": "3.8.3-final"
  },
  "orig_nbformat": 2,
  "kernelspec": {
   "name": "python3",
   "display_name": "Python 3"
  }
 },
 "nbformat": 4,
 "nbformat_minor": 2,
 "cells": [
  {
   "source": [
    "# Aufgabe 1 - Matrix als Liste von Listen\n",
    "\n"
   ],
   "cell_type": "markdown",
   "metadata": {}
  },
  {
   "cell_type": "code",
   "execution_count": 1,
   "metadata": {},
   "outputs": [],
   "source": [
    "# Beispiel Matrix als Liste von Listen\n",
    "matrix = [[1,0,3],[0,2,4]]\n"
   ]
  },
  {
   "cell_type": "code",
   "execution_count": 2,
   "metadata": {},
   "outputs": [],
   "source": [
    "\n",
    "def well_formed_matrix(m):\n",
    "    if isinstance(m, list):\n",
    "        # if list is empty\n",
    "        if m == [] or m[0] == []:\n",
    "            return False\n",
    "        # list has more than one line\n",
    "        for l in m:\n",
    "            # if line is empty\n",
    "            if len(m[0]) != len(l):\n",
    "                return False\n",
    "        return True\n",
    "    elif isinstance(m, tuple):\n",
    "        if m[0] == [] or m[1] == [] or m[2] == []:\n",
    "            return False\n",
    "        else:\n",
    "            return True\n",
    "    elif isinstance(m[2], dict):\n",
    "        if m[0] == [] or m[1] == [] or m[2] == {}:\n",
    "            return False\n",
    "        else:\n",
    "            return True\n"
   ]
  },
  {
   "cell_type": "code",
   "execution_count": 3,
   "metadata": {},
   "outputs": [
    {
     "output_type": "execute_result",
     "data": {
      "text/plain": [
       "False"
      ]
     },
     "metadata": {},
     "execution_count": 3
    }
   ],
   "source": [
    "well_formed_matrix([])\n"
   ]
  },
  {
   "cell_type": "code",
   "execution_count": 4,
   "metadata": {},
   "outputs": [
    {
     "output_type": "execute_result",
     "data": {
      "text/plain": [
       "False"
      ]
     },
     "metadata": {},
     "execution_count": 4
    }
   ],
   "source": [
    "well_formed_matrix([[], []])"
   ]
  },
  {
   "cell_type": "code",
   "execution_count": 5,
   "metadata": {},
   "outputs": [
    {
     "output_type": "execute_result",
     "data": {
      "text/plain": [
       "False"
      ]
     },
     "metadata": {},
     "execution_count": 5
    }
   ],
   "source": [
    "well_formed_matrix([[1], [1,2]])"
   ]
  },
  {
   "cell_type": "code",
   "execution_count": 6,
   "metadata": {},
   "outputs": [
    {
     "output_type": "execute_result",
     "data": {
      "text/plain": [
       "True"
      ]
     },
     "metadata": {},
     "execution_count": 6
    }
   ],
   "source": [
    "well_formed_matrix([[0,0], [1,2]])"
   ]
  },
  {
   "source": [
    "# Aufgabe 2 - Matrix transponieren\n",
    "\n",
    "Programmiere eine Funktion transpose(m), die eine Matrix als Liste von Listen transponiert. (Falls m kei- ne wohlgeformte Matrix im Sinne von Aufgabe 1 ist, soll ein ValueError ausgelöst werden.)"
   ],
   "cell_type": "markdown",
   "metadata": {}
  },
  {
   "cell_type": "code",
   "execution_count": 7,
   "metadata": {},
   "outputs": [],
   "source": [
    "def transpose(m):\n",
    "    if well_formed_matrix(m):\n",
    "        result = []\n",
    "        # iterate through all cols\n",
    "        for i in range(len(m[0])):\n",
    "            newrow = []\n",
    "            # iterate through all rows\n",
    "            for j in range(len(m)):\n",
    "                newrow.append(m[j][i])\n",
    "            result.append(newrow)\n",
    "    else:\n",
    "        raise ValueError('Not a well formed Matrix')\n",
    "\n",
    "    return result\n"
   ]
  },
  {
   "cell_type": "code",
   "execution_count": 35,
   "metadata": {},
   "outputs": [],
   "source": [
    "#list comprehension\n",
    "def transpose_v2(m):\n",
    "    if not well_formed_matrix(m):\n",
    "        raise ValueError('Not a well formed Matrix')\n",
    "    else:\n",
    "        return [[m[i][j] for i in range(len(m))] for j in range(len(m[0]))]\n",
    "\n"
   ]
  },
  {
   "cell_type": "code",
   "execution_count": 9,
   "metadata": {},
   "outputs": [
    {
     "output_type": "execute_result",
     "data": {
      "text/plain": [
       "[[1, 0], [0, 2], [3, 4]]"
      ]
     },
     "metadata": {},
     "execution_count": 9
    }
   ],
   "source": [
    "transpose([[1, 0, 3], [0, 2, 4]])"
   ]
  },
  {
   "cell_type": "code",
   "execution_count": 10,
   "metadata": {},
   "outputs": [
    {
     "output_type": "execute_result",
     "data": {
      "text/plain": [
       "[[1, 0, 3], [0, 2, 4]]"
      ]
     },
     "metadata": {},
     "execution_count": 10
    }
   ],
   "source": [
    "transpose([[1, 0], [0, 2], [3, 4]])"
   ]
  },
  {
   "cell_type": "code",
   "execution_count": 36,
   "metadata": {},
   "outputs": [
    {
     "output_type": "execute_result",
     "data": {
      "text/plain": [
       "[[1, 0], [0, 2], [3, 4]]"
      ]
     },
     "metadata": {},
     "execution_count": 36
    }
   ],
   "source": [
    "transpose_v2([[1, 0, 3], [0, 2, 4]])"
   ]
  },
  {
   "source": [
    "# Aufgabe 3 - Matrix flach in einer Liste\n",
    "\n",
    "Programmiere eine Funktion flatten(m), die eine Matrix m als Liste von Listen in eine flache Matrix die Form (Anzahl Zeilen, Anzahl Spalten, Liste der Werte) umwandelt:\n"
   ],
   "cell_type": "markdown",
   "metadata": {}
  },
  {
   "cell_type": "code",
   "execution_count": 37,
   "metadata": {},
   "outputs": [],
   "source": [
    "def flatten(m):\n",
    "    newm = []\n",
    "    # flatten the list\n",
    "    for col in m:\n",
    "        newm.extend(col)\n",
    "    return len(m), len(m[0]), newm"
   ]
  },
  {
   "cell_type": "code",
   "execution_count": 38,
   "metadata": {},
   "outputs": [
    {
     "output_type": "execute_result",
     "data": {
      "text/plain": [
       "(2, 3, [1, 0, 3, 0, 2, 4])"
      ]
     },
     "metadata": {},
     "execution_count": 38
    }
   ],
   "source": [
    "flatten([[1, 0, 3], [0, 2, 4]])"
   ]
  },
  {
   "cell_type": "code",
   "execution_count": 39,
   "metadata": {},
   "outputs": [
    {
     "output_type": "execute_result",
     "data": {
      "text/plain": [
       "(3, 2, [1, 0, 0, 2, 3, 4])"
      ]
     },
     "metadata": {},
     "execution_count": 39
    }
   ],
   "source": [
    "flatten([[1, 0], [0, 2], [3, 4]])"
   ]
  },
  {
   "source": [
    "# Aufgabe 4 - Transponier Funktion erweitern\n",
    "\n",
    "Erweitere die Funktion transpose(m) aus Aufgabe 2 so, dass sie auch flach in einer Liste (das heisst ei- gentlich eben als Tupel mit u.a. einer Liste) gespeicherte Matrizen (wie in Aufgabe 3 erzeugt) transponie- ren kann. Das Ergebnis soll das gleiche Daten-Format haben, wie das jeweilige Argument m.\n",
    "\n"
   ],
   "cell_type": "markdown",
   "metadata": {}
  },
  {
   "cell_type": "code",
   "execution_count": 40,
   "metadata": {},
   "outputs": [
    {
     "output_type": "execute_result",
     "data": {
      "text/plain": [
       "list"
      ]
     },
     "metadata": {},
     "execution_count": 40
    }
   ],
   "source": [
    "m_2d = [[1, 0, 3], [0, 2, 4]]\n",
    "m_flat = flatten(m_2d)\n",
    "type(m_2d)"
   ]
  },
  {
   "cell_type": "code",
   "execution_count": 41,
   "metadata": {},
   "outputs": [
    {
     "output_type": "execute_result",
     "data": {
      "text/plain": [
       "(2, 3, [1, 0, 3, 0, 2, 4])"
      ]
     },
     "metadata": {},
     "execution_count": 41
    }
   ],
   "source": [
    "m_flat"
   ]
  },
  {
   "cell_type": "code",
   "execution_count": 42,
   "metadata": {},
   "outputs": [],
   "source": [
    "def transpose(m):\n",
    "    if well_formed_matrix(m):\n",
    "        if isinstance(m, list):\n",
    "            result = []\n",
    "            # iterate through all cols\n",
    "            for i in range(len(m[0])):\n",
    "                newrow = []\n",
    "                # iterate through all rows\n",
    "                for j in range(len(m)):\n",
    "                    newrow.append(m[j][i])\n",
    "                result.append(newrow)\n",
    "            return result\n",
    "        elif isinstance(m, tuple):\n",
    "            result = []\n",
    "            # iterate through all cols\n",
    "            for i in range(m[1]):\n",
    "                # iterate through all rows\n",
    "                for j in range(m[0]):\n",
    "                    result.append(m[2][i+j*m[1]])\n",
    "            return m[1],m[0],result\n",
    "    else:\n",
    "        raise ValueError('Not a well formed Matrix')\n",
    "        "
   ]
  },
  {
   "cell_type": "code",
   "execution_count": 18,
   "metadata": {},
   "outputs": [
    {
     "output_type": "execute_result",
     "data": {
      "text/plain": [
       "[[1, 0], [0, 2], [3, 4]]"
      ]
     },
     "metadata": {},
     "execution_count": 18
    }
   ],
   "source": [
    "m_2d = [[1, 0, 3], [0, 2, 4]]\n",
    "transpose(m_2d)"
   ]
  },
  {
   "cell_type": "code",
   "execution_count": 19,
   "metadata": {},
   "outputs": [
    {
     "output_type": "execute_result",
     "data": {
      "text/plain": [
       "(2, 3, [1, 0, 3, 0, 2, 4])"
      ]
     },
     "metadata": {},
     "execution_count": 19
    }
   ],
   "source": [
    "flatten(m_2d)"
   ]
  },
  {
   "cell_type": "code",
   "execution_count": 20,
   "metadata": {},
   "outputs": [
    {
     "output_type": "execute_result",
     "data": {
      "text/plain": [
       "(3, 2, [1, 0, 0, 2, 3, 4])"
      ]
     },
     "metadata": {},
     "execution_count": 20
    }
   ],
   "source": [
    "transpose(flatten(m_2d))"
   ]
  },
  {
   "cell_type": "code",
   "execution_count": 21,
   "metadata": {},
   "outputs": [
    {
     "output_type": "execute_result",
     "data": {
      "text/plain": [
       "(3, 2, [1, 0, 0, 2, 3, 4])"
      ]
     },
     "metadata": {},
     "execution_count": 21
    }
   ],
   "source": [
    "flatten(transpose(m_2d))"
   ]
  },
  {
   "source": [
    "# Aufgabe 5 - Matrix als Dictionary\n",
    "\n",
    "Programmiere eine Funktion as_dict(m), die eine als Liste von Listen (und allenfalls auch eine als flache Liste) gespeicherte Matrix in eine Matrix konvertiert, die in einem Dictionary gespeichert ist:\n",
    "\n",
    "sources:\n",
    "* https://www.askpython.com/python/list/iterate-through-list-in-python"
   ],
   "cell_type": "markdown",
   "metadata": {}
  },
  {
   "cell_type": "code",
   "execution_count": 48,
   "metadata": {},
   "outputs": [],
   "source": [
    "def as_dict(m):\n",
    "    dict = {}\n",
    "    for x, line in enumerate(m):\n",
    "        for y, value  in enumerate(line):\n",
    "            if value != 0:\n",
    "                dict[x,y] = value\n",
    "    return len(m),len(m[0]),dict\n"
   ]
  },
  {
   "cell_type": "code",
   "execution_count": 49,
   "metadata": {},
   "outputs": [],
   "source": [
    "# using dictionary comprehension\n",
    "def as_dict_dc(m):\n",
    "    return len(m),len(m[0]),{(x,y):m[x][y] for x in range(len(m)) for y in range(len(m[0])) if m[x][y] != 0}"
   ]
  },
  {
   "cell_type": "code",
   "execution_count": 50,
   "metadata": {},
   "outputs": [
    {
     "output_type": "execute_result",
     "data": {
      "text/plain": [
       "(2, 3, {(0, 0): 1, (0, 2): 3, (1, 1): 2, (1, 2): 4})"
      ]
     },
     "metadata": {},
     "execution_count": 50
    }
   ],
   "source": [
    "as_dict([[1, 0, 3], [0, 2, 4]])"
   ]
  },
  {
   "cell_type": "code",
   "execution_count": 25,
   "metadata": {},
   "outputs": [
    {
     "output_type": "execute_result",
     "data": {
      "text/plain": [
       "(2, 3, {(0, 0): 1, (0, 2): 3, (1, 1): 2, (1, 2): 4})"
      ]
     },
     "metadata": {},
     "execution_count": 25
    }
   ],
   "source": [
    "as_dict_dc([[1, 0, 3], [0, 2, 4]])"
   ]
  },
  {
   "cell_type": "code",
   "execution_count": 46,
   "metadata": {},
   "outputs": [
    {
     "output_type": "execute_result",
     "data": {
      "text/plain": [
       "(4, 4, {})"
      ]
     },
     "metadata": {},
     "execution_count": 46
    }
   ],
   "source": [
    "as_dict([[0,0,0,0],[0,0,0,0],[0,0,0,0],[0,0,0,0]])"
   ]
  },
  {
   "cell_type": "code",
   "execution_count": 47,
   "metadata": {},
   "outputs": [
    {
     "output_type": "execute_result",
     "data": {
      "text/plain": [
       "(1, 1, {(0, 0): 5})"
      ]
     },
     "metadata": {},
     "execution_count": 47
    }
   ],
   "source": [
    "as_dict([[5]])"
   ]
  },
  {
   "source": [
    "# Aufgabe 6 - Transponier-Funktion nochmals erweitern\n",
    "\n",
    "Erweitere die Funktion transpose(m) aus den Aufgabe 2 und 4 so, dass sie auch für mit einem Dictionary gespeicherte Matrizen funktioniert:"
   ],
   "cell_type": "markdown",
   "metadata": {}
  },
  {
   "cell_type": "code",
   "execution_count": 51,
   "metadata": {},
   "outputs": [],
   "source": [
    "def transpose(m):\n",
    "    if well_formed_matrix(m):\n",
    "        if isinstance(m, list):\n",
    "            result = []\n",
    "            # iterate through all cols\n",
    "            for i in range(len(m[0])):\n",
    "                newrow = []\n",
    "                # iterate through all rows\n",
    "                for j in range(len(m)):\n",
    "                    newrow.append(m[j][i])\n",
    "                result.append(newrow)\n",
    "            return result\n",
    "        elif isinstance(m[2], tuple):\n",
    "            result = []\n",
    "            # iterate through all cols\n",
    "            for i in range(m[1]):\n",
    "                # iterate through all rows\n",
    "                for j in range(m[0]):\n",
    "                    result.append(m[2][i+j*m[1]])\n",
    "            return m[1],m[0],result\n",
    "        elif isinstance(m[2], dict):\n",
    "            newdict = {}\n",
    "            for x,y in m[2].items():\n",
    "                newdict[(x[1],x[0])] = m[2][x]\n",
    "            return m[1],m[0],newdict\n",
    "    else:\n",
    "        raise ValueError('Not a well formed Matrix')"
   ]
  },
  {
   "cell_type": "code",
   "execution_count": 30,
   "metadata": {},
   "outputs": [
    {
     "output_type": "execute_result",
     "data": {
      "text/plain": [
       "(3, 2, {(0, 0): 1, (2, 0): 3, (1, 1): 2, (2, 1): 4})"
      ]
     },
     "metadata": {},
     "execution_count": 30
    }
   ],
   "source": [
    "m_2d = [[1, 0, 3], [0, 2, 4]]\n",
    "transpose(as_dict(m_2d))\n",
    "# dict is unsorted!"
   ]
  },
  {
   "source": [
    "# Aufgabe 7 - Addition von Matrizen"
   ],
   "cell_type": "markdown",
   "metadata": {}
  },
  {
   "cell_type": "code",
   "execution_count": 31,
   "metadata": {},
   "outputs": [],
   "source": [
    "def mat_add(m1, m2):\n",
    "    # use when matrices are lists\n",
    "    if isinstance(m1, list):\n",
    "        if len(m1) == len(m2) and len(m1[0]) == len(m2[0]):\n",
    "            result = []\n",
    "            for x, line in enumerate(m1):\n",
    "                newline = []\n",
    "                for y, value in enumerate(line):\n",
    "                    newline.append(m1[x][y]+m2[x][y])\n",
    "                result.append(newline)\n",
    "            return result\n",
    "        else:\n",
    "            raise ValueError('Matrices are not the same size')\n",
    "    # use when matrices are lists inside a tuple\n",
    "    if isinstance(m1[2], list):\n",
    "        if m1[0] == m2[0] and m1[1] == m2[1]:\n",
    "            l = []\n",
    "            for x in range(len(m1[2])):\n",
    "                l.append(m1[2][x]+m2[2][x])\n",
    "            result = (m1[0],m1[0],l)\n",
    "            return result\n",
    "        else:\n",
    "            raise ValueError('Matrices are not the same size')\n",
    "    # use when matrices are dicts inside a tuple\n",
    "    if isinstance(m1[2], dict):\n",
    "        if m1[0] == m2[0] and m1[1] == m2[1]:\n",
    "            newdict = {}\n",
    "            for x in range(0,m1[0]):\n",
    "                for y in range(0,m1[1]):\n",
    "                    if (x,y) in m1[2]:\n",
    "                        v1 = m1[2][(x,y)]\n",
    "                    else:\n",
    "                        v1 = 0\n",
    "                    if (x,y) in m2[2]:\n",
    "                        v2 = m2[2][(x,y)]\n",
    "                    else:\n",
    "                        v2 = 0\n",
    "                    if v1+v2 > 0:\n",
    "                        newdict[x,y] = v1+v2\n",
    "            return m1[0],m2[0],newdict\n",
    "        else:\n",
    "            raise ValueError('Matrices are not the same size')\n",
    "\n"
   ]
  },
  {
   "cell_type": "code",
   "execution_count": 32,
   "metadata": {},
   "outputs": [
    {
     "output_type": "execute_result",
     "data": {
      "text/plain": [
       "[[2, 0, 6], [0, 4, 8]]"
      ]
     },
     "metadata": {},
     "execution_count": 32
    }
   ],
   "source": [
    "mat_add([[1, 0, 3], [0, 2, 4]], [[1, 0, 3], [0, 2, 4]])"
   ]
  },
  {
   "cell_type": "code",
   "execution_count": 33,
   "metadata": {},
   "outputs": [
    {
     "output_type": "execute_result",
     "data": {
      "text/plain": [
       "[[5]]"
      ]
     },
     "metadata": {},
     "execution_count": 33
    }
   ],
   "source": [
    "mat_add([[2]], [[3]])"
   ]
  },
  {
   "cell_type": "code",
   "execution_count": 34,
   "metadata": {},
   "outputs": [
    {
     "output_type": "error",
     "ename": "ValueError",
     "evalue": "Matrices are not the same size",
     "traceback": [
      "\u001b[0;31m---------------------------------------------------------------------------\u001b[0m",
      "\u001b[0;31mValueError\u001b[0m                                Traceback (most recent call last)",
      "\u001b[0;32m<ipython-input-34-d5c738f649bc>\u001b[0m in \u001b[0;36m<module>\u001b[0;34m\u001b[0m\n\u001b[0;32m----> 1\u001b[0;31m \u001b[0mmat_add\u001b[0m\u001b[0;34m(\u001b[0m\u001b[0;34m[\u001b[0m\u001b[0;34m[\u001b[0m\u001b[0;36m1\u001b[0m\u001b[0;34m,\u001b[0m \u001b[0;36m0\u001b[0m\u001b[0;34m,\u001b[0m \u001b[0;36m3\u001b[0m\u001b[0;34m]\u001b[0m\u001b[0;34m,\u001b[0m \u001b[0;34m[\u001b[0m\u001b[0;36m0\u001b[0m\u001b[0;34m,\u001b[0m \u001b[0;36m2\u001b[0m\u001b[0;34m,\u001b[0m \u001b[0;36m4\u001b[0m\u001b[0;34m]\u001b[0m\u001b[0;34m]\u001b[0m\u001b[0;34m,\u001b[0m \u001b[0;34m[\u001b[0m\u001b[0;34m[\u001b[0m\u001b[0;36m3\u001b[0m\u001b[0;34m]\u001b[0m\u001b[0;34m]\u001b[0m\u001b[0;34m)\u001b[0m\u001b[0;34m\u001b[0m\u001b[0;34m\u001b[0m\u001b[0m\n\u001b[0m",
      "\u001b[0;32m<ipython-input-31-73a9361615dd>\u001b[0m in \u001b[0;36mmat_add\u001b[0;34m(m1, m2)\u001b[0m\n\u001b[1;32m     11\u001b[0m             \u001b[0;32mreturn\u001b[0m \u001b[0mresult\u001b[0m\u001b[0;34m\u001b[0m\u001b[0;34m\u001b[0m\u001b[0m\n\u001b[1;32m     12\u001b[0m         \u001b[0;32melse\u001b[0m\u001b[0;34m:\u001b[0m\u001b[0;34m\u001b[0m\u001b[0;34m\u001b[0m\u001b[0m\n\u001b[0;32m---> 13\u001b[0;31m             \u001b[0;32mraise\u001b[0m \u001b[0mValueError\u001b[0m\u001b[0;34m(\u001b[0m\u001b[0;34m'Matrices are not the same size'\u001b[0m\u001b[0;34m)\u001b[0m\u001b[0;34m\u001b[0m\u001b[0;34m\u001b[0m\u001b[0m\n\u001b[0m\u001b[1;32m     14\u001b[0m     \u001b[0;31m# use when matrices are lists inside a tuple\u001b[0m\u001b[0;34m\u001b[0m\u001b[0;34m\u001b[0m\u001b[0;34m\u001b[0m\u001b[0m\n\u001b[1;32m     15\u001b[0m     \u001b[0;32mif\u001b[0m \u001b[0misinstance\u001b[0m\u001b[0;34m(\u001b[0m\u001b[0mm1\u001b[0m\u001b[0;34m[\u001b[0m\u001b[0;36m2\u001b[0m\u001b[0;34m]\u001b[0m\u001b[0;34m,\u001b[0m \u001b[0mlist\u001b[0m\u001b[0;34m)\u001b[0m\u001b[0;34m:\u001b[0m\u001b[0;34m\u001b[0m\u001b[0;34m\u001b[0m\u001b[0m\n",
      "\u001b[0;31mValueError\u001b[0m: Matrices are not the same size"
     ]
    }
   ],
   "source": [
    "mat_add([[1, 0, 3], [0, 2, 4]], [[3]])"
   ]
  },
  {
   "cell_type": "code",
   "execution_count": null,
   "metadata": {},
   "outputs": [],
   "source": [
    "mat_add((2, 3, [1, 0, 3, 0, 2, 4]), (2, 3, [1, 0, 3, 0, 2, 4]))"
   ]
  },
  {
   "cell_type": "code",
   "execution_count": null,
   "metadata": {},
   "outputs": [],
   "source": [
    "mat_add((2, 3, {(0, 0): 1, (0, 2): 3, (1, 1): 2, (1, 2): 4}), (2, 3, {(0, 0): 1, (0, 2): 3, (1, 1): 2, (1, 2): 4}))"
   ]
  },
  {
   "cell_type": "code",
   "execution_count": null,
   "metadata": {},
   "outputs": [],
   "source": [
    "mat_add((1,1,{(0,0):1}), (1,1,{(0,0):-1}))"
   ]
  },
  {
   "source": [
    "# Aufgabe 8 - Multiplikation von Matrizen\n",
    "\n",
    "Programmiere eine Funktion mat_mul(m1, m2), die für die verschiedenen Matrix-Datenstrukturen eine solche Matrix-Multiplikation implementiert"
   ],
   "cell_type": "markdown",
   "metadata": {}
  },
  {
   "cell_type": "code",
   "execution_count": null,
   "metadata": {},
   "outputs": [],
   "source": [
    "def mat_mul(m1,m2):\n",
    "    # use when matrices are lists\n",
    "    if isinstance(m1, list):\n",
    "        if len(m1) == len(m2[0]) and len(m1[0]) == len(m2):\n",
    "            # iterate through row size of resulting matrix\n",
    "            result = []\n",
    "            for row in range(len(m1)):\n",
    "                newrow = []\n",
    "                # iterate through col size of resulting matrix\n",
    "                for col in range(len(m2[1])):\n",
    "                    cell = 0\n",
    "                    for i in range(len(m2)):\n",
    "                        cell += m1[row][i]*m2[i][col]\n",
    "                    newrow.append(cell)\n",
    "                result.append(newrow)\n",
    "            return result\n",
    "        else:\n",
    "            raise ValueError('Matrices are not the same size')\n",
    "    # use when matrices are lists inside a tuple\n",
    "    if isinstance(m1[2], list):\n",
    "        if m1[0] == m2[1] and m1[1] == m2[0]:\n",
    "            print('tbd')\n"
   ]
  },
  {
   "cell_type": "code",
   "execution_count": null,
   "metadata": {
    "tags": []
   },
   "outputs": [],
   "source": [
    "mat_mul([[1, 0, 3], [0, 2, 4]], [[1, 0], [0, 2], [3, 4]])\n"
   ]
  },
  {
   "cell_type": "code",
   "execution_count": null,
   "metadata": {},
   "outputs": [],
   "source": [
    "mat_mul([[1, 0, 3], [0, 2, 4]], [[1, 0, 3], [0, 2, 4]])"
   ]
  },
  {
   "cell_type": "code",
   "execution_count": null,
   "metadata": {},
   "outputs": [],
   "source": [
    "mat_mul((2, 3, [1, 0, 3, 0, 2, 4]), (3, 2, [1, 0, 0, 2, 3, 4]))"
   ]
  }
 ]
}