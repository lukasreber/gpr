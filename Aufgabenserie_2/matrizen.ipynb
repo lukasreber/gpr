{
 "metadata": {
  "language_info": {
   "codemirror_mode": {
    "name": "ipython",
    "version": 3
   },
   "file_extension": ".py",
   "mimetype": "text/x-python",
   "name": "python",
   "nbconvert_exporter": "python",
   "pygments_lexer": "ipython3",
   "version": "3.8.3-final"
  },
  "orig_nbformat": 2,
  "kernelspec": {
   "name": "python3",
   "display_name": "Python 3"
  }
 },
 "nbformat": 4,
 "nbformat_minor": 2,
 "cells": [
  {
   "source": [
    "# Aufgabe 1 - Matrix als Liste von Listen\n",
    "\n"
   ],
   "cell_type": "markdown",
   "metadata": {}
  },
  {
   "cell_type": "code",
   "execution_count": null,
   "metadata": {},
   "outputs": [],
   "source": [
    "# Beispiel Matrix als Liste von Listen\n",
    "matrix = [[1,0,3],[0,2,4]]\n"
   ]
  },
  {
   "cell_type": "code",
   "execution_count": null,
   "metadata": {},
   "outputs": [],
   "source": [
    "\n",
    "def well_formed_matrix(m):\n",
    "    # if list is empty\n",
    "    if m == [] or m[0] == []:\n",
    "        return False\n",
    "    # list has more than one line\n",
    "    else: \n",
    "        for l in m:\n",
    "            # if line is empty\n",
    "            if len(m[0]) != len(l):\n",
    "                return False\n",
    "        return True"
   ]
  },
  {
   "cell_type": "code",
   "execution_count": null,
   "metadata": {},
   "outputs": [],
   "source": [
    "well_formed_matrix([])\n"
   ]
  },
  {
   "cell_type": "code",
   "execution_count": null,
   "metadata": {},
   "outputs": [],
   "source": [
    "well_formed_matrix([[], []])"
   ]
  },
  {
   "cell_type": "code",
   "execution_count": null,
   "metadata": {},
   "outputs": [],
   "source": [
    "well_formed_matrix([[1], [1,2]])"
   ]
  },
  {
   "cell_type": "code",
   "execution_count": null,
   "metadata": {},
   "outputs": [],
   "source": [
    "well_formed_matrix([[0,0], [1,2]])"
   ]
  },
  {
   "source": [
    "# Aufgabe 2 - Matrix transponieren"
   ],
   "cell_type": "markdown",
   "metadata": {}
  },
  {
   "cell_type": "code",
   "execution_count": null,
   "metadata": {},
   "outputs": [],
   "source": [
    "def transpose(m):\n",
    "    if not well_formed_matrix(m):\n",
    "        raise ValueError('Not a well formed Matrix')\n",
    "    else:\n",
    "        result = []\n",
    "        i = 0\n",
    "        # iterate through all cols\n",
    "        while i < len(m[0]):\n",
    "            j = 0\n",
    "            newrow = []\n",
    "            # iterate through all rows\n",
    "            while j < len(m):\n",
    "                newrow.append(m[j][i])\n",
    "                j +=1\n",
    "            i += 1\n",
    "            result.append(newrow)\n",
    "\n",
    "    return result\n"
   ]
  },
  {
   "cell_type": "code",
   "execution_count": null,
   "metadata": {},
   "outputs": [],
   "source": [
    "#list comprehension\n",
    "def transpose_v2(m):\n",
    "    if not well_formed_matrix(m):\n",
    "        raise ValueError('Not a well formed Matrix')\n",
    "    else:\n",
    "        return [list(i) for i in zip(*m)]\n",
    "\n"
   ]
  },
  {
   "cell_type": "code",
   "execution_count": null,
   "metadata": {},
   "outputs": [],
   "source": [
    "x =[[1, 0, 3], [0, 2, 4]]\n"
   ]
  },
  {
   "cell_type": "code",
   "execution_count": null,
   "metadata": {},
   "outputs": [],
   "source": [
    "[list(i) for i in zip(*x)]"
   ]
  },
  {
   "cell_type": "code",
   "execution_count": null,
   "metadata": {},
   "outputs": [],
   "source": [
    "transpose([[1, 0, 3], [0, 2, 4]])"
   ]
  },
  {
   "cell_type": "code",
   "execution_count": null,
   "metadata": {},
   "outputs": [],
   "source": [
    "transpose([[1, 0], [0, 2], [3, 4]])"
   ]
  },
  {
   "cell_type": "code",
   "execution_count": null,
   "metadata": {},
   "outputs": [],
   "source": [
    "transpose_v2([[1, 0, 3], [0, 2, 4]])"
   ]
  },
  {
   "source": [
    "# Aufgabe 3 - Matrix flach in einer Liste\n"
   ],
   "cell_type": "markdown",
   "metadata": {}
  },
  {
   "cell_type": "code",
   "execution_count": null,
   "metadata": {},
   "outputs": [],
   "source": [
    "def flatten(m):\n",
    "    newm = []\n",
    "    # flatten the list\n",
    "    for col in m:\n",
    "        newm.extend(col)\n",
    "    return len(m), len(m[0]), newm"
   ]
  },
  {
   "cell_type": "code",
   "execution_count": null,
   "metadata": {},
   "outputs": [],
   "source": [
    "flatten([[1, 0, 3], [0, 2, 4]])"
   ]
  },
  {
   "cell_type": "code",
   "execution_count": null,
   "metadata": {},
   "outputs": [],
   "source": [
    "flatten([[1, 0], [0, 2], [3, 4]])"
   ]
  },
  {
   "source": [
    "# Aufgabe 4 - Transponier Funktion erweitern"
   ],
   "cell_type": "markdown",
   "metadata": {}
  },
  {
   "cell_type": "code",
   "execution_count": null,
   "metadata": {},
   "outputs": [],
   "source": [
    "m_2d = [[1, 0, 3], [0, 2, 4]]\n",
    "m_flat = flatten(m_2d)\n",
    "type(m_2d)"
   ]
  },
  {
   "cell_type": "code",
   "execution_count": null,
   "metadata": {},
   "outputs": [],
   "source": [
    "m_flat"
   ]
  },
  {
   "cell_type": "code",
   "execution_count": null,
   "metadata": {},
   "outputs": [],
   "source": [
    "m_flat[2][0]"
   ]
  },
  {
   "cell_type": "code",
   "execution_count": null,
   "metadata": {},
   "outputs": [],
   "source": [
    "def transpose(m):\n",
    "    if isinstance(m, list):\n",
    "        result = []\n",
    "        i = 0\n",
    "        # iterate through all cols\n",
    "        while i < len(m[0]):\n",
    "            j = 0\n",
    "            newrow = []\n",
    "            # iterate through all rows\n",
    "            while j < len(m):\n",
    "                newrow.append(m[j][i])\n",
    "                j +=1\n",
    "            i += 1\n",
    "            result.append(newrow)\n",
    "        return result\n",
    "    elif isinstance(m, tuple):\n",
    "        #tbd\n",
    "        return None\n",
    "        "
   ]
  },
  {
   "cell_type": "code",
   "execution_count": null,
   "metadata": {},
   "outputs": [],
   "source": [
    "m_2d = [[1, 0, 3], [0, 2, 4]]\n",
    "transpose(m_2d)"
   ]
  },
  {
   "cell_type": "code",
   "execution_count": null,
   "metadata": {},
   "outputs": [],
   "source": [
    "transpose(flatten(m_2d))"
   ]
  },
  {
   "source": [
    "# Aufgabe 5 - Matrix als Dictionary\n",
    "\n",
    "sources:\n",
    "* https://www.askpython.com/python/list/iterate-through-list-in-python"
   ],
   "cell_type": "markdown",
   "metadata": {}
  },
  {
   "cell_type": "code",
   "execution_count": null,
   "metadata": {},
   "outputs": [],
   "source": [
    "def as_dict(m):\n",
    "    dict = {}\n",
    "    for x, line in enumerate(m):\n",
    "        for y, value  in enumerate(line):\n",
    "            if value > 0:\n",
    "                dict[x,y] = value\n",
    "    return len(m),len(m[0]),dict\n"
   ]
  },
  {
   "cell_type": "code",
   "execution_count": null,
   "metadata": {},
   "outputs": [],
   "source": [
    "as_dict([[1, 0, 3], [0, 2, 4]])"
   ]
  },
  {
   "cell_type": "code",
   "execution_count": null,
   "metadata": {},
   "outputs": [],
   "source": [
    "as_dict([[0,0,0,0],[0,0,0,0],[0,0,0,0],[0,0,0,0]])"
   ]
  },
  {
   "cell_type": "code",
   "execution_count": null,
   "metadata": {},
   "outputs": [],
   "source": [
    "as_dict([[5]])"
   ]
  },
  {
   "source": [
    "# Aufgabe 6 - Transponier-Funktion nochmals erweitern\n",
    "\n",
    "Zuerst Aufgabe 4 lösen"
   ],
   "cell_type": "markdown",
   "metadata": {}
  },
  {
   "source": [
    "# Aufgabe 7 - Addition von Matrizen"
   ],
   "cell_type": "markdown",
   "metadata": {}
  },
  {
   "cell_type": "code",
   "execution_count": null,
   "metadata": {},
   "outputs": [],
   "source": [
    "def mat_add(m1, m2):\n",
    "    # use when matrices are lists\n",
    "    if isinstance(m1, list):\n",
    "        if len(m1) == len(m2) and len(m1[0]) == len(m2[0]):\n",
    "            result = []\n",
    "            for x, line in enumerate(m1):\n",
    "                newline = []\n",
    "                for y, value in enumerate(line):\n",
    "                    newline.append(m1[x][y]+m2[x][y])\n",
    "                result.append(newline)\n",
    "            return result\n",
    "        else:\n",
    "            raise ValueError('Matrices are not the same size')\n",
    "    # use when matrices are lists inside a tuple\n",
    "    if isinstance(m1[2], list):\n",
    "        if m1[0] == m2[0] and m1[1] == m2[1]:\n",
    "            l = []\n",
    "            for x in range(len(m1[2])):\n",
    "                l.append(m1[2][x]+m2[2][x])\n",
    "            result = (m1[0],m1[0],l)\n",
    "            return result\n",
    "        else:\n",
    "            raise ValueError('Matrices are not the same size')\n",
    "    # use when matrices are dicts inside a tuple\n",
    "    if isinstance(m1[2], dict):\n",
    "        if m1[0] == m2[0] and m1[1] == m2[1]:\n",
    "            newdict = {}\n",
    "            for x in range(0,m1[0]):\n",
    "                for y in range(0,m1[1]):\n",
    "                    if (x,y) in m1[2]:\n",
    "                        v1 = m1[2][(x,y)]\n",
    "                    else:\n",
    "                        v1 = 0\n",
    "                    if (x,y) in m2[2]:\n",
    "                        v2 = m2[2][(x,y)]\n",
    "                    else:\n",
    "                        v2 = 0\n",
    "                    if v1+v2 > 0:\n",
    "                        newdict[x,y] = v1+v2\n",
    "            return m1[0],m2[0],newdict\n",
    "        else:\n",
    "            raise ValueError('Matrices are not the same size')\n",
    "\n"
   ]
  },
  {
   "cell_type": "code",
   "execution_count": null,
   "metadata": {},
   "outputs": [],
   "source": [
    "mat_add([[1, 0, 3], [0, 2, 4]], [[1, 0, 3], [0, 2, 4]])"
   ]
  },
  {
   "cell_type": "code",
   "execution_count": null,
   "metadata": {},
   "outputs": [],
   "source": [
    "mat_add([[2]], [[3]])"
   ]
  },
  {
   "cell_type": "code",
   "execution_count": null,
   "metadata": {},
   "outputs": [],
   "source": [
    "mat_add([[1, 0, 3], [0, 2, 4]], [[3]])"
   ]
  },
  {
   "cell_type": "code",
   "execution_count": null,
   "metadata": {},
   "outputs": [],
   "source": [
    "mat_add((2, 3, [1, 0, 3, 0, 2, 4]), (2, 3, [1, 0, 3, 0, 2, 4]))"
   ]
  },
  {
   "cell_type": "code",
   "execution_count": null,
   "metadata": {},
   "outputs": [],
   "source": [
    "mat_add((2, 3, {(0, 0): 1, (0, 2): 3, (1, 1): 2, (1, 2): 4}), (2, 3, {(0, 0): 1, (0, 2): 3, (1, 1): 2, (1, 2): 4}))"
   ]
  },
  {
   "cell_type": "code",
   "execution_count": null,
   "metadata": {},
   "outputs": [],
   "source": [
    "mat_add((1,1,{(0,0):1}), (1,1,{(0,0):-1}))"
   ]
  },
  {
   "source": [
    "# Aufgabe 8 - Multiplikation von Matrizen"
   ],
   "cell_type": "markdown",
   "metadata": {}
  }
 ]
}