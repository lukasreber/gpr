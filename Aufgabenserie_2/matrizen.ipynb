{
 "metadata": {
  "language_info": {
   "codemirror_mode": {
    "name": "ipython",
    "version": 3
   },
   "file_extension": ".py",
   "mimetype": "text/x-python",
   "name": "python",
   "nbconvert_exporter": "python",
   "pygments_lexer": "ipython3",
   "version": "3.8.3-final"
  },
  "orig_nbformat": 2,
  "kernelspec": {
   "name": "python3",
   "display_name": "Python 3"
  }
 },
 "nbformat": 4,
 "nbformat_minor": 2,
 "cells": [
  {
   "source": [
    "# Aufgabe 1 - Matrix als Liste von Listen\n",
    "\n"
   ],
   "cell_type": "markdown",
   "metadata": {}
  },
  {
   "cell_type": "code",
   "execution_count": 110,
   "metadata": {},
   "outputs": [],
   "source": [
    "# Beispiel Matrix als Liste von Listen\n",
    "matrix = [[1,0,3],[0,2,4]]\n"
   ]
  },
  {
   "cell_type": "code",
   "execution_count": 111,
   "metadata": {},
   "outputs": [],
   "source": [
    "\n",
    "def well_formed_matrix(m):\n",
    "    if isinstance(m, list):\n",
    "        # if list is empty\n",
    "        if m == [] or m[0] == []:\n",
    "            return False\n",
    "        # list has more than one line\n",
    "        for l in m:\n",
    "            # if line is empty\n",
    "            if len(m[0]) != len(l):\n",
    "                return False\n",
    "        return True\n",
    "    elif isinstance(m, tuple):\n",
    "        if m[0] == [] or m[1] == [] or m[2] == []:\n",
    "            return False\n",
    "        else:\n",
    "            return True\n",
    "    elif isinstance(m[2], dict):\n",
    "        if m[0] == [] or m[1] == [] or m[2] == {}:\n",
    "            return False\n",
    "        else:\n",
    "            return True\n"
   ]
  },
  {
   "cell_type": "code",
   "execution_count": 112,
   "metadata": {},
   "outputs": [
    {
     "output_type": "execute_result",
     "data": {
      "text/plain": [
       "False"
      ]
     },
     "metadata": {},
     "execution_count": 112
    }
   ],
   "source": [
    "well_formed_matrix([])\n"
   ]
  },
  {
   "cell_type": "code",
   "execution_count": 113,
   "metadata": {},
   "outputs": [
    {
     "output_type": "execute_result",
     "data": {
      "text/plain": [
       "False"
      ]
     },
     "metadata": {},
     "execution_count": 113
    }
   ],
   "source": [
    "well_formed_matrix([[], []])"
   ]
  },
  {
   "cell_type": "code",
   "execution_count": 114,
   "metadata": {},
   "outputs": [
    {
     "output_type": "execute_result",
     "data": {
      "text/plain": [
       "False"
      ]
     },
     "metadata": {},
     "execution_count": 114
    }
   ],
   "source": [
    "well_formed_matrix([[1], [1,2]])"
   ]
  },
  {
   "cell_type": "code",
   "execution_count": 115,
   "metadata": {},
   "outputs": [
    {
     "output_type": "execute_result",
     "data": {
      "text/plain": [
       "True"
      ]
     },
     "metadata": {},
     "execution_count": 115
    }
   ],
   "source": [
    "well_formed_matrix([[0,0], [1,2]])"
   ]
  },
  {
   "source": [
    "# Aufgabe 2 - Matrix transponieren\n",
    "\n",
    "Programmiere eine Funktion transpose(m), die eine Matrix als Liste von Listen transponiert. (Falls m kei- ne wohlgeformte Matrix im Sinne von Aufgabe 1 ist, soll ein ValueError ausgelöst werden.)"
   ],
   "cell_type": "markdown",
   "metadata": {}
  },
  {
   "cell_type": "code",
   "execution_count": 116,
   "metadata": {},
   "outputs": [],
   "source": [
    "def transpose(m):\n",
    "    if well_formed_matrix(m):\n",
    "        result = []\n",
    "        # iterate through all cols\n",
    "        for i in range(len(m[0])):\n",
    "            newrow = []\n",
    "            # iterate through all rows\n",
    "            for j in range(len(m)):\n",
    "                newrow.append(m[j][i])\n",
    "            result.append(newrow)\n",
    "    else:\n",
    "        raise ValueError('Not a well formed Matrix')\n",
    "\n",
    "    return result\n"
   ]
  },
  {
   "cell_type": "code",
   "execution_count": 117,
   "metadata": {},
   "outputs": [],
   "source": [
    "#list comprehension\n",
    "def transpose_v2(m):\n",
    "    if not well_formed_matrix(m):\n",
    "        raise ValueError('Not a well formed Matrix')\n",
    "    else:\n",
    "        return [[m[i][j] for i in range(len(m))] for j in range(len(m[0]))]\n",
    "\n"
   ]
  },
  {
   "cell_type": "code",
   "execution_count": 118,
   "metadata": {},
   "outputs": [
    {
     "output_type": "execute_result",
     "data": {
      "text/plain": [
       "[[1, 0], [0, 2], [3, 4]]"
      ]
     },
     "metadata": {},
     "execution_count": 118
    }
   ],
   "source": [
    "transpose([[1, 0, 3], [0, 2, 4]])"
   ]
  },
  {
   "cell_type": "code",
   "execution_count": 119,
   "metadata": {},
   "outputs": [
    {
     "output_type": "execute_result",
     "data": {
      "text/plain": [
       "[[1, 0, 3], [0, 2, 4]]"
      ]
     },
     "metadata": {},
     "execution_count": 119
    }
   ],
   "source": [
    "transpose([[1, 0], [0, 2], [3, 4]])"
   ]
  },
  {
   "cell_type": "code",
   "execution_count": 120,
   "metadata": {},
   "outputs": [
    {
     "output_type": "execute_result",
     "data": {
      "text/plain": [
       "[[1, 0], [0, 2], [3, 4]]"
      ]
     },
     "metadata": {},
     "execution_count": 120
    }
   ],
   "source": [
    "transpose_v2([[1, 0, 3], [0, 2, 4]])"
   ]
  },
  {
   "source": [
    "# Aufgabe 3 - Matrix flach in einer Liste\n",
    "\n",
    "Programmiere eine Funktion flatten(m), die eine Matrix m als Liste von Listen in eine flache Matrix die Form (Anzahl Zeilen, Anzahl Spalten, Liste der Werte) umwandelt:\n"
   ],
   "cell_type": "markdown",
   "metadata": {}
  },
  {
   "cell_type": "code",
   "execution_count": 121,
   "metadata": {},
   "outputs": [],
   "source": [
    "def flatten(m):\n",
    "    newm = []\n",
    "    # flatten the list\n",
    "    for col in m:\n",
    "        newm.extend(col)\n",
    "    return len(m), len(m[0]), newm"
   ]
  },
  {
   "cell_type": "code",
   "execution_count": 122,
   "metadata": {},
   "outputs": [
    {
     "output_type": "execute_result",
     "data": {
      "text/plain": [
       "(2, 3, [1, 0, 3, 0, 2, 4])"
      ]
     },
     "metadata": {},
     "execution_count": 122
    }
   ],
   "source": [
    "flatten([[1, 0, 3], [0, 2, 4]])"
   ]
  },
  {
   "cell_type": "code",
   "execution_count": 123,
   "metadata": {},
   "outputs": [
    {
     "output_type": "execute_result",
     "data": {
      "text/plain": [
       "(3, 2, [1, 0, 0, 2, 3, 4])"
      ]
     },
     "metadata": {},
     "execution_count": 123
    }
   ],
   "source": [
    "flatten([[1, 0], [0, 2], [3, 4]])"
   ]
  },
  {
   "source": [
    "# Aufgabe 4 - Transponier Funktion erweitern\n",
    "\n",
    "Erweitere die Funktion transpose(m) aus Aufgabe 2 so, dass sie auch flach in einer Liste (das heisst ei- gentlich eben als Tupel mit u.a. einer Liste) gespeicherte Matrizen (wie in Aufgabe 3 erzeugt) transponie- ren kann. Das Ergebnis soll das gleiche Daten-Format haben, wie das jeweilige Argument m.\n",
    "\n"
   ],
   "cell_type": "markdown",
   "metadata": {}
  },
  {
   "cell_type": "code",
   "execution_count": 124,
   "metadata": {},
   "outputs": [
    {
     "output_type": "execute_result",
     "data": {
      "text/plain": [
       "list"
      ]
     },
     "metadata": {},
     "execution_count": 124
    }
   ],
   "source": [
    "m_2d = [[1, 0, 3], [0, 2, 4]]\n",
    "m_flat = flatten(m_2d)\n",
    "type(m_2d)"
   ]
  },
  {
   "cell_type": "code",
   "execution_count": 125,
   "metadata": {},
   "outputs": [
    {
     "output_type": "execute_result",
     "data": {
      "text/plain": [
       "(2, 3, [1, 0, 3, 0, 2, 4])"
      ]
     },
     "metadata": {},
     "execution_count": 125
    }
   ],
   "source": [
    "m_flat"
   ]
  },
  {
   "cell_type": "code",
   "execution_count": 180,
   "metadata": {},
   "outputs": [],
   "source": [
    "def transpose(m):\n",
    "    if well_formed_matrix(m):\n",
    "        if isinstance(m, list):\n",
    "            result = []\n",
    "            # iterate through all cols\n",
    "            for i in range(len(m[0])):\n",
    "                newrow = []\n",
    "                # iterate through all rows\n",
    "                for j in range(len(m)):\n",
    "                    newrow.append(m[j][i])\n",
    "                result.append(newrow)\n",
    "            return result\n",
    "        elif isinstance(m, tuple):\n",
    "            result = []\n",
    "            # iterate through all cols\n",
    "            for i in range(m[1]):\n",
    "                # iterate through all rows\n",
    "                for j in range(m[0]):\n",
    "                    result.append(m[2][i+j*m[1]])\n",
    "            return m[1],m[0],result\n",
    "    else:\n",
    "        raise ValueError('Not a well formed Matrix')\n",
    "        "
   ]
  },
  {
   "cell_type": "code",
   "execution_count": 182,
   "metadata": {},
   "outputs": [
    {
     "output_type": "execute_result",
     "data": {
      "text/plain": [
       "[[1, 0, 1], [0, 2, 2], [3, 4, 3]]"
      ]
     },
     "metadata": {},
     "execution_count": 182
    }
   ],
   "source": [
    "m_2d = [[1, 0, 3], [0, 2, 4],[1,2,3]]\n",
    "transpose(m_2d)"
   ]
  },
  {
   "cell_type": "code",
   "execution_count": 183,
   "metadata": {},
   "outputs": [
    {
     "output_type": "execute_result",
     "data": {
      "text/plain": [
       "(3, 3, [1, 0, 3, 0, 2, 4, 1, 2, 3])"
      ]
     },
     "metadata": {},
     "execution_count": 183
    }
   ],
   "source": [
    "flatten(m_2d)"
   ]
  },
  {
   "cell_type": "code",
   "execution_count": 184,
   "metadata": {},
   "outputs": [
    {
     "output_type": "execute_result",
     "data": {
      "text/plain": [
       "(3, 3, [1, 0, 1, 0, 2, 2, 3, 4, 3])"
      ]
     },
     "metadata": {},
     "execution_count": 184
    }
   ],
   "source": [
    "transpose(flatten(m_2d))"
   ]
  },
  {
   "cell_type": "code",
   "execution_count": 185,
   "metadata": {},
   "outputs": [
    {
     "output_type": "execute_result",
     "data": {
      "text/plain": [
       "(3, 3, [1, 0, 1, 0, 2, 2, 3, 4, 3])"
      ]
     },
     "metadata": {},
     "execution_count": 185
    }
   ],
   "source": [
    "flatten(transpose(m_2d))"
   ]
  },
  {
   "source": [
    "# Aufgabe 5 - Matrix als Dictionary\n",
    "\n",
    "Programmiere eine Funktion as_dict(m), die eine als Liste von Listen (und allenfalls auch eine als flache Liste) gespeicherte Matrix in eine Matrix konvertiert, die in einem Dictionary gespeichert ist:\n",
    "\n",
    "sources:\n",
    "* https://www.askpython.com/python/list/iterate-through-list-in-python"
   ],
   "cell_type": "markdown",
   "metadata": {}
  },
  {
   "cell_type": "code",
   "execution_count": 131,
   "metadata": {},
   "outputs": [],
   "source": [
    "def as_dict(m):\n",
    "    dict = {}\n",
    "    for x, line in enumerate(m):\n",
    "        for y, value  in enumerate(line):\n",
    "            if value != 0:\n",
    "                dict[x,y] = value\n",
    "    return len(m),len(m[0]),dict\n"
   ]
  },
  {
   "cell_type": "code",
   "execution_count": 132,
   "metadata": {},
   "outputs": [],
   "source": [
    "# using dictionary comprehension\n",
    "def as_dict_dc(m):\n",
    "    return len(m),len(m[0]),{(x,y):m[x][y] for x in range(len(m)) for y in range(len(m[0])) if m[x][y] != 0}"
   ]
  },
  {
   "cell_type": "code",
   "execution_count": 133,
   "metadata": {},
   "outputs": [
    {
     "output_type": "execute_result",
     "data": {
      "text/plain": [
       "(2, 3, {(0, 0): 1, (0, 2): 3, (1, 1): 2, (1, 2): 4})"
      ]
     },
     "metadata": {},
     "execution_count": 133
    }
   ],
   "source": [
    "as_dict([[1, 0, 3], [0, 2, 4]])"
   ]
  },
  {
   "cell_type": "code",
   "execution_count": 134,
   "metadata": {},
   "outputs": [
    {
     "output_type": "execute_result",
     "data": {
      "text/plain": [
       "(2, 3, {(0, 0): 1, (0, 2): 3, (1, 1): 2, (1, 2): 4})"
      ]
     },
     "metadata": {},
     "execution_count": 134
    }
   ],
   "source": [
    "as_dict_dc([[1, 0, 3], [0, 2, 4]])"
   ]
  },
  {
   "cell_type": "code",
   "execution_count": 135,
   "metadata": {},
   "outputs": [
    {
     "output_type": "execute_result",
     "data": {
      "text/plain": [
       "(4, 4, {})"
      ]
     },
     "metadata": {},
     "execution_count": 135
    }
   ],
   "source": [
    "as_dict([[0,0,0,0],[0,0,0,0],[0,0,0,0],[0,0,0,0]])"
   ]
  },
  {
   "cell_type": "code",
   "execution_count": 136,
   "metadata": {},
   "outputs": [
    {
     "output_type": "execute_result",
     "data": {
      "text/plain": [
       "(1, 1, {(0, 0): 5})"
      ]
     },
     "metadata": {},
     "execution_count": 136
    }
   ],
   "source": [
    "as_dict([[5]])"
   ]
  },
  {
   "source": [
    "# Aufgabe 6 - Transponier-Funktion nochmals erweitern\n",
    "\n",
    "Erweitere die Funktion transpose(m) aus den Aufgabe 2 und 4 so, dass sie auch für mit einem Dictionary gespeicherte Matrizen funktioniert:"
   ],
   "cell_type": "markdown",
   "metadata": {}
  },
  {
   "cell_type": "code",
   "execution_count": 137,
   "metadata": {},
   "outputs": [],
   "source": [
    "def transpose(m):\n",
    "    if well_formed_matrix(m):\n",
    "        if isinstance(m, list):\n",
    "            result = []\n",
    "            # iterate through all cols\n",
    "            for i in range(len(m[0])):\n",
    "                newrow = []\n",
    "                # iterate through all rows\n",
    "                for j in range(len(m)):\n",
    "                    newrow.append(m[j][i])\n",
    "                result.append(newrow)\n",
    "            return result\n",
    "        elif isinstance(m, tuple) and isinstance(m[2], list):\n",
    "            result = []\n",
    "            # iterate through all cols\n",
    "            for i in range(m[1]):\n",
    "                # iterate through all rows\n",
    "                for j in range(m[0]):\n",
    "                    result.append(m[2][i+j*m[1]])\n",
    "            return m[1],m[0],result\n",
    "        elif isinstance(m[2], dict):\n",
    "            newdict = {}\n",
    "            for x,y in m[2].items():\n",
    "                newdict[(x[1],x[0])] = m[2][x]\n",
    "            return m[1],m[0],newdict\n",
    "    else:\n",
    "        raise ValueError('Not a well formed Matrix')"
   ]
  },
  {
   "cell_type": "code",
   "execution_count": null,
   "metadata": {},
   "outputs": [],
   "source": [
    "alternativ: liste[i::m[1]]"
   ]
  },
  {
   "cell_type": "code",
   "execution_count": 146,
   "metadata": {},
   "outputs": [],
   "source": [
    "# using dictionary comprehension\n",
    "def transpose_dc(m):\n",
    "    return m[1],m[0],{(key[1],key[0]):value for (key,value) in m[2].items()}"
   ]
  },
  {
   "cell_type": "code",
   "execution_count": 147,
   "metadata": {},
   "outputs": [
    {
     "output_type": "execute_result",
     "data": {
      "text/plain": [
       "(3, 2, {(0, 0): 1, (2, 0): 3, (1, 1): 2, (2, 1): 4})"
      ]
     },
     "metadata": {},
     "execution_count": 147
    }
   ],
   "source": [
    "m_2d = [[1, 0, 3], [0, 2, 4]]\n",
    "transpose(as_dict(m_2d))\n",
    "# dict is unsorted!"
   ]
  },
  {
   "cell_type": "code",
   "execution_count": 148,
   "metadata": {},
   "outputs": [
    {
     "output_type": "execute_result",
     "data": {
      "text/plain": [
       "(3, 2, {(0, 0): 1, (2, 0): 3, (1, 1): 2, (2, 1): 4})"
      ]
     },
     "metadata": {},
     "execution_count": 148
    }
   ],
   "source": [
    "m_2d = [[1, 0, 3], [0, 2, 4]]\n",
    "transpose_dc(as_dict(m_2d))\n",
    "# dict is unsorted!"
   ]
  },
  {
   "source": [
    "# Aufgabe 7 - Addition von Matrizen"
   ],
   "cell_type": "markdown",
   "metadata": {}
  },
  {
   "cell_type": "code",
   "execution_count": 141,
   "metadata": {},
   "outputs": [],
   "source": [
    "def mat_add(m1, m2):\n",
    "    # use when matrices are lists\n",
    "    if isinstance(m1, list):\n",
    "        if len(m1) == len(m2) and len(m1[0]) == len(m2[0]):\n",
    "            result = []\n",
    "            for x, line in enumerate(m1):\n",
    "                newline = []\n",
    "                for y, value in enumerate(line):\n",
    "                    newline.append(m1[x][y]+m2[x][y])\n",
    "                result.append(newline)\n",
    "            return result\n",
    "        else:\n",
    "            raise ValueError('Matrices are not the same size')\n",
    "    # use when matrices are lists inside a tuple\n",
    "    if isinstance(m1[2], list):\n",
    "        if m1[0] == m2[0] and m1[1] == m2[1]:\n",
    "            l = []\n",
    "            for x in range(len(m1[2])):\n",
    "                l.append(m1[2][x]+m2[2][x])\n",
    "            return m1[0],m1[0],l\n",
    "        else:\n",
    "            raise ValueError('Matrices are not the same size')\n",
    "    # use when matrices are dicts inside a tuple\n",
    "    if isinstance(m1[2], dict):\n",
    "        if m1[0] == m2[0] and m1[1] == m2[1]:\n",
    "            newdict = {}\n",
    "            for k in m1[2].keys():\n",
    "                if k in m2[2]:\n",
    "                    newdict[k] =  m1[2][k] + m2[2][k]\n",
    "                else: \n",
    "                    newdict[k] =  m1[2][k]\n",
    "            for k in m2[2].keys():\n",
    "                if k not in m1[2]:\n",
    "                    newdict[k] = m2[2][k]\n",
    "            return m1[0],m2[0],newdict\n",
    "        else:\n",
    "            raise ValueError('Matrices are not the same size')\n",
    "\n",
    "        # möglichkeit: dict.get(,0)\n",
    "\n"
   ]
  },
  {
   "cell_type": "code",
   "execution_count": 142,
   "metadata": {},
   "outputs": [],
   "source": [
    "# using dictionary comprehension\n",
    "def mat_add_dc(m1, m2):\n",
    "    return m1[0],m2[0],{key:value+m2[2][key] for (key,value) in m1[2].items() if key in m2[2]}\n",
    "    # was ist mit keys welche nur in einem m drin sind?"
   ]
  },
  {
   "cell_type": "code",
   "execution_count": 143,
   "metadata": {},
   "outputs": [
    {
     "output_type": "execute_result",
     "data": {
      "text/plain": [
       "[[2, 0, 6], [0, 4, 8]]"
      ]
     },
     "metadata": {},
     "execution_count": 143
    }
   ],
   "source": [
    "mat_add([[1, 0, 3], [0, 2, 4]], [[1, 0, 3], [0, 2, 4]])"
   ]
  },
  {
   "cell_type": "code",
   "execution_count": 144,
   "metadata": {},
   "outputs": [
    {
     "output_type": "execute_result",
     "data": {
      "text/plain": [
       "[[5]]"
      ]
     },
     "metadata": {},
     "execution_count": 144
    }
   ],
   "source": [
    "mat_add([[2]], [[3]])"
   ]
  },
  {
   "cell_type": "code",
   "execution_count": 145,
   "metadata": {},
   "outputs": [
    {
     "output_type": "error",
     "ename": "ValueError",
     "evalue": "Matrices are not the same size",
     "traceback": [
      "\u001b[0;31m---------------------------------------------------------------------------\u001b[0m",
      "\u001b[0;31mValueError\u001b[0m                                Traceback (most recent call last)",
      "\u001b[0;32m<ipython-input-145-d5c738f649bc>\u001b[0m in \u001b[0;36m<module>\u001b[0;34m\u001b[0m\n\u001b[0;32m----> 1\u001b[0;31m \u001b[0mmat_add\u001b[0m\u001b[0;34m(\u001b[0m\u001b[0;34m[\u001b[0m\u001b[0;34m[\u001b[0m\u001b[0;36m1\u001b[0m\u001b[0;34m,\u001b[0m \u001b[0;36m0\u001b[0m\u001b[0;34m,\u001b[0m \u001b[0;36m3\u001b[0m\u001b[0;34m]\u001b[0m\u001b[0;34m,\u001b[0m \u001b[0;34m[\u001b[0m\u001b[0;36m0\u001b[0m\u001b[0;34m,\u001b[0m \u001b[0;36m2\u001b[0m\u001b[0;34m,\u001b[0m \u001b[0;36m4\u001b[0m\u001b[0;34m]\u001b[0m\u001b[0;34m]\u001b[0m\u001b[0;34m,\u001b[0m \u001b[0;34m[\u001b[0m\u001b[0;34m[\u001b[0m\u001b[0;36m3\u001b[0m\u001b[0;34m]\u001b[0m\u001b[0;34m]\u001b[0m\u001b[0;34m)\u001b[0m\u001b[0;34m\u001b[0m\u001b[0;34m\u001b[0m\u001b[0m\n\u001b[0m",
      "\u001b[0;32m<ipython-input-141-1979e475fa79>\u001b[0m in \u001b[0;36mmat_add\u001b[0;34m(m1, m2)\u001b[0m\n\u001b[1;32m     11\u001b[0m             \u001b[0;32mreturn\u001b[0m \u001b[0mresult\u001b[0m\u001b[0;34m\u001b[0m\u001b[0;34m\u001b[0m\u001b[0m\n\u001b[1;32m     12\u001b[0m         \u001b[0;32melse\u001b[0m\u001b[0;34m:\u001b[0m\u001b[0;34m\u001b[0m\u001b[0;34m\u001b[0m\u001b[0m\n\u001b[0;32m---> 13\u001b[0;31m             \u001b[0;32mraise\u001b[0m \u001b[0mValueError\u001b[0m\u001b[0;34m(\u001b[0m\u001b[0;34m'Matrices are not the same size'\u001b[0m\u001b[0;34m)\u001b[0m\u001b[0;34m\u001b[0m\u001b[0;34m\u001b[0m\u001b[0m\n\u001b[0m\u001b[1;32m     14\u001b[0m     \u001b[0;31m# use when matrices are lists inside a tuple\u001b[0m\u001b[0;34m\u001b[0m\u001b[0;34m\u001b[0m\u001b[0;34m\u001b[0m\u001b[0m\n\u001b[1;32m     15\u001b[0m     \u001b[0;32mif\u001b[0m \u001b[0misinstance\u001b[0m\u001b[0;34m(\u001b[0m\u001b[0mm1\u001b[0m\u001b[0;34m[\u001b[0m\u001b[0;36m2\u001b[0m\u001b[0;34m]\u001b[0m\u001b[0;34m,\u001b[0m \u001b[0mlist\u001b[0m\u001b[0;34m)\u001b[0m\u001b[0;34m:\u001b[0m\u001b[0;34m\u001b[0m\u001b[0;34m\u001b[0m\u001b[0m\n",
      "\u001b[0;31mValueError\u001b[0m: Matrices are not the same size"
     ]
    }
   ],
   "source": [
    "mat_add([[1, 0, 3], [0, 2, 4]], [[3]])"
   ]
  },
  {
   "cell_type": "code",
   "execution_count": 149,
   "metadata": {},
   "outputs": [
    {
     "output_type": "execute_result",
     "data": {
      "text/plain": [
       "(2, 2, [2, 0, 6, 0, 4, 8])"
      ]
     },
     "metadata": {},
     "execution_count": 149
    }
   ],
   "source": [
    "mat_add((2, 3, [1, 0, 3, 0, 2, 4]), (2, 3, [1, 0, 3, 0, 2, 4]))"
   ]
  },
  {
   "cell_type": "code",
   "execution_count": 150,
   "metadata": {},
   "outputs": [
    {
     "output_type": "execute_result",
     "data": {
      "text/plain": [
       "(2, 2, {(0, 0): 2, (0, 2): 6, (1, 1): 4, (1, 2): 8})"
      ]
     },
     "metadata": {},
     "execution_count": 150
    }
   ],
   "source": [
    "mat_add((2, 3, {(0, 0): 1, (0, 2): 3, (1, 1): 2, (1, 2): 4}), (2, 3, {(0, 0): 1, (0, 2): 3, (1, 1): 2, (1, 2): 4}))"
   ]
  },
  {
   "cell_type": "code",
   "execution_count": 151,
   "metadata": {},
   "outputs": [
    {
     "output_type": "execute_result",
     "data": {
      "text/plain": [
       "(2, 2, {(0, 0): 2, (0, 2): 6, (1, 1): 4, (1, 2): 8})"
      ]
     },
     "metadata": {},
     "execution_count": 151
    }
   ],
   "source": [
    "mat_add_dc((2, 3, {(0, 0): 1, (0, 2): 3, (1, 1): 2, (1, 2): 4}), (2, 3, {(0, 0): 1, (0, 2): 3, (1, 1): 2, (1, 2): 4}))"
   ]
  },
  {
   "cell_type": "code",
   "execution_count": 152,
   "metadata": {},
   "outputs": [
    {
     "output_type": "execute_result",
     "data": {
      "text/plain": [
       "(1, 1, {(0, 0): 0})"
      ]
     },
     "metadata": {},
     "execution_count": 152
    }
   ],
   "source": [
    "mat_add((1,1,{(0,0):1}), (1,1,{(0,0):-1}))"
   ]
  },
  {
   "source": [
    "# Aufgabe 8 - Multiplikation von Matrizen\n",
    "\n",
    "Programmiere eine Funktion mat_mul(m1, m2), die für die verschiedenen Matrix-Datenstrukturen eine solche Matrix-Multiplikation implementiert"
   ],
   "cell_type": "markdown",
   "metadata": {}
  },
  {
   "cell_type": "code",
   "execution_count": 153,
   "metadata": {},
   "outputs": [],
   "source": [
    "def mat_mul(m1,m2):\n",
    "    # use when matrices are lists\n",
    "    if isinstance(m1, list):\n",
    "        if len(m1) == len(m2[0]) and len(m1[0]) == len(m2) or not well_formed_matrix(m1) or not well_formed_matrix(m2):\n",
    "            # iterate through row size of resulting matrix\n",
    "            result = []\n",
    "            for row in range(len(m1)):\n",
    "                newrow = []\n",
    "                # iterate through col size of resulting matrix\n",
    "                for col in range(len(m2[1])):\n",
    "                    cell = 0\n",
    "                    for i in range(len(m2)):\n",
    "                        cell += m1[row][i]*m2[i][col]\n",
    "                    newrow.append(cell)\n",
    "                result.append(newrow)\n",
    "            return result\n",
    "        else:\n",
    "            raise ValueError('Matrices are not the same size or not well formed')\n",
    "    # use when matrices are lists inside a tuple\n",
    "    if isinstance(m1[2], list):\n",
    "        if m1[0] == m2[1] and m1[1] == m2[0] or not well_formed_matrix(m1) or not well_formed_matrix(m2):\n",
    "            result = []\n",
    "            for i in range(m1[0]):\n",
    "                row = m1[2][i*m1[1]:i*m1[1]+m1[1]]\n",
    "                for j in range(m2[1]):\n",
    "                    col = m2[2][j::m2[1]]\n",
    "                    cell = sum([row[i]*col[i] for i in range(len(row))])\n",
    "                    result.append(cell)\n",
    "            return i+1,j+1,result\n",
    "        else:\n",
    "            raise ValueError('Matrices are not the same size or not well formed')\n",
    "    # use when matrices is a dict inside a tuple\n",
    "    if isinstance(m1[2], dict):\n",
    "        if m1[0] == m2[1] and m1[1] == m2[0] and well_formed_matrix(m1) and well_formed_matrix(m2):\n",
    "            newdict = {}\n",
    "            for x in range(m2[1]):\n",
    "                for y in range(m1[0]):\n",
    "                    s = 0\n",
    "                    for z in range(m2[0]):\n",
    "                        if (x,z) in m1[2] and (z,y) in m2[2]:\n",
    "                            s += m1[2][(x,z)]*m2[2][(z,y)]  \n",
    "                    newdict[x,y] = s\n",
    "            return x+1,y+1,newdict\n",
    "        else:\n",
    "            raise ValueError('Matrices are not the same size or not well formed')\n"
   ]
  },
  {
   "cell_type": "code",
   "execution_count": 154,
   "metadata": {
    "tags": []
   },
   "outputs": [
    {
     "output_type": "execute_result",
     "data": {
      "text/plain": [
       "[[10, 12], [12, 20]]"
      ]
     },
     "metadata": {},
     "execution_count": 154
    }
   ],
   "source": [
    "mat_mul([[1, 0, 3], [0, 2, 4]], [[1, 0], [0, 2], [3, 4]])\n"
   ]
  },
  {
   "cell_type": "code",
   "execution_count": 155,
   "metadata": {},
   "outputs": [
    {
     "output_type": "error",
     "ename": "ValueError",
     "evalue": "Matrices are not the same size or not well formed",
     "traceback": [
      "\u001b[0;31m---------------------------------------------------------------------------\u001b[0m",
      "\u001b[0;31mValueError\u001b[0m                                Traceback (most recent call last)",
      "\u001b[0;32m<ipython-input-155-0d96e97c998d>\u001b[0m in \u001b[0;36m<module>\u001b[0;34m\u001b[0m\n\u001b[0;32m----> 1\u001b[0;31m \u001b[0mmat_mul\u001b[0m\u001b[0;34m(\u001b[0m\u001b[0;34m[\u001b[0m\u001b[0;34m[\u001b[0m\u001b[0;36m1\u001b[0m\u001b[0;34m,\u001b[0m \u001b[0;36m0\u001b[0m\u001b[0;34m,\u001b[0m \u001b[0;36m3\u001b[0m\u001b[0;34m]\u001b[0m\u001b[0;34m,\u001b[0m \u001b[0;34m[\u001b[0m\u001b[0;36m0\u001b[0m\u001b[0;34m,\u001b[0m \u001b[0;36m2\u001b[0m\u001b[0;34m,\u001b[0m \u001b[0;36m4\u001b[0m\u001b[0;34m]\u001b[0m\u001b[0;34m]\u001b[0m\u001b[0;34m,\u001b[0m \u001b[0;34m[\u001b[0m\u001b[0;34m[\u001b[0m\u001b[0;36m1\u001b[0m\u001b[0;34m,\u001b[0m \u001b[0;36m0\u001b[0m\u001b[0;34m,\u001b[0m \u001b[0;36m3\u001b[0m\u001b[0;34m]\u001b[0m\u001b[0;34m,\u001b[0m \u001b[0;34m[\u001b[0m\u001b[0;36m0\u001b[0m\u001b[0;34m,\u001b[0m \u001b[0;36m2\u001b[0m\u001b[0;34m,\u001b[0m \u001b[0;36m4\u001b[0m\u001b[0;34m]\u001b[0m\u001b[0;34m]\u001b[0m\u001b[0;34m)\u001b[0m\u001b[0;34m\u001b[0m\u001b[0;34m\u001b[0m\u001b[0m\n\u001b[0m",
      "\u001b[0;32m<ipython-input-153-797f062f77fd>\u001b[0m in \u001b[0;36mmat_mul\u001b[0;34m(m1, m2)\u001b[0m\n\u001b[1;32m     16\u001b[0m             \u001b[0;32mreturn\u001b[0m \u001b[0mresult\u001b[0m\u001b[0;34m\u001b[0m\u001b[0;34m\u001b[0m\u001b[0m\n\u001b[1;32m     17\u001b[0m         \u001b[0;32melse\u001b[0m\u001b[0;34m:\u001b[0m\u001b[0;34m\u001b[0m\u001b[0;34m\u001b[0m\u001b[0m\n\u001b[0;32m---> 18\u001b[0;31m             \u001b[0;32mraise\u001b[0m \u001b[0mValueError\u001b[0m\u001b[0;34m(\u001b[0m\u001b[0;34m'Matrices are not the same size or not well formed'\u001b[0m\u001b[0;34m)\u001b[0m\u001b[0;34m\u001b[0m\u001b[0;34m\u001b[0m\u001b[0m\n\u001b[0m\u001b[1;32m     19\u001b[0m     \u001b[0;31m# use when matrices are lists inside a tuple\u001b[0m\u001b[0;34m\u001b[0m\u001b[0;34m\u001b[0m\u001b[0;34m\u001b[0m\u001b[0m\n\u001b[1;32m     20\u001b[0m     \u001b[0;32mif\u001b[0m \u001b[0misinstance\u001b[0m\u001b[0;34m(\u001b[0m\u001b[0mm1\u001b[0m\u001b[0;34m[\u001b[0m\u001b[0;36m2\u001b[0m\u001b[0;34m]\u001b[0m\u001b[0;34m,\u001b[0m \u001b[0mlist\u001b[0m\u001b[0;34m)\u001b[0m\u001b[0;34m:\u001b[0m\u001b[0;34m\u001b[0m\u001b[0;34m\u001b[0m\u001b[0m\n",
      "\u001b[0;31mValueError\u001b[0m: Matrices are not the same size or not well formed"
     ]
    }
   ],
   "source": [
    "mat_mul([[1, 0, 3], [0, 2, 4]], [[1, 0, 3], [0, 2, 4]])"
   ]
  },
  {
   "cell_type": "code",
   "execution_count": 156,
   "metadata": {},
   "outputs": [
    {
     "output_type": "execute_result",
     "data": {
      "text/plain": [
       "(2, 2, [10, 12, 12, 20])"
      ]
     },
     "metadata": {},
     "execution_count": 156
    }
   ],
   "source": [
    "mat_mul((2, 3, [1, 0, 3, 0, 2, 4]), (3, 2, [1, 0, 0, 2, 3, 4]))"
   ]
  },
  {
   "cell_type": "code",
   "execution_count": 157,
   "metadata": {},
   "outputs": [
    {
     "output_type": "execute_result",
     "data": {
      "text/plain": [
       "(2, 2, {(0, 0): 10, (0, 1): 12, (1, 0): 12, (1, 1): 20})"
      ]
     },
     "metadata": {},
     "execution_count": 157
    }
   ],
   "source": [
    "mat_mul((2, 3, {(0, 0): 1, (0, 2): 3, (1, 1): 2, (1, 2): 4}), (3, 2, {(0, 0): 1, (1, 1): 2, (2, 0): 3, (2, 1): 4}))"
   ]
  },
  {
   "source": [
    "# Aufgabe 9\n",
    "Programmiere eine Funktion read_matrix(file_name), die eine solche Datei lesen und in eines der disku- tierten Datenformate speichern kann.\n",
    "\n"
   ],
   "cell_type": "markdown",
   "metadata": {}
  },
  {
   "cell_type": "code",
   "execution_count": 196,
   "metadata": {},
   "outputs": [],
   "source": [
    "def read_matrix(filename,t):\n",
    "    file = open(filename)\n",
    "    if t == 'list':\n",
    "        file.readline()\n",
    "        return [[int(i) for i in line.strip().split(' ')] for line in file]\n",
    "    elif t == 'tuple':\n",
    "        line = file.readline()\n",
    "        row,col = [int(i) for i in line.strip().split(' ')]\n",
    "        m = [int(s) for line in file for s in line.strip().split(' ')]\n",
    "        return row,col,m\n",
    "    elif t == 'dict':\n",
    "        row,col = [int(i) for i in file.readline().strip().split(' ')]\n",
    "        m = {(x,y):int(s) for x,line in enumerate(file) for y,s in enumerate(line.strip().split(' ')) if s != 0}\n",
    "        '''\n",
    "        i = 0\n",
    "        m = {}\n",
    "        while True:\n",
    "            line = file.readline()\n",
    "            if not line:\n",
    "                break\n",
    "            if i == 0:\n",
    "                row,col = [int(i) for i in line.strip().split(' ')]\n",
    "            else:\n",
    "                j = 0\n",
    "                linelist = (line.strip().split(' '))\n",
    "                for ll in linelist:\n",
    "                    m[(i-1,j)] = int(ll)\n",
    "                    j += 1\n",
    "            i += 1\n",
    "        '''\n",
    "        return row,col,m\n",
    "        \n",
    "    file.close()"
   ]
  },
  {
   "cell_type": "code",
   "execution_count": 197,
   "metadata": {},
   "outputs": [],
   "source": [
    "matrix10 = 'test_matrix_10.txt'\n",
    "\n",
    "matrix_list = read_matrix(matrix10,'list')\n",
    "matrix_tuple = read_matrix(matrix10,'tuple')\n",
    "matrix_dict = read_matrix(matrix10,'dict')"
   ]
  },
  {
   "source": [
    "## Testen der Laufzeiten"
   ],
   "cell_type": "markdown",
   "metadata": {}
  },
  {
   "cell_type": "code",
   "execution_count": 160,
   "metadata": {},
   "outputs": [],
   "source": [
    "import time\n",
    "\n",
    "matrix_list_10 = read_matrix('test_matrix_10.txt','list')\n",
    "matrix_list_100 = read_matrix('test_matrix_100.txt','list')\n",
    "matrix_list_1000 = read_matrix('test_matrix_1000.txt','list')\n"
   ]
  },
  {
   "cell_type": "code",
   "execution_count": 161,
   "metadata": {},
   "outputs": [
    {
     "output_type": "stream",
     "name": "stdout",
     "text": [
      "Execution time in seconds: 0.00022602081298828125\n",
      "Execution time in seconds: 0.021802902221679688\n",
      "Execution time in seconds: 0.41759181022644043\n"
     ]
    }
   ],
   "source": [
    "# Transpose\n",
    "startTime = time.time()\n",
    "transpose(matrix_list_10)\n",
    "executionTime = (time.time() - startTime)\n",
    "print('Execution time in seconds: ' + str(executionTime))\n",
    "\n",
    "\n",
    "startTime = time.time()\n",
    "transpose(matrix_list_100)\n",
    "executionTime = (time.time() - startTime)\n",
    "print('Execution time in seconds: ' + str(executionTime))\n",
    "\n",
    "\n",
    "startTime = time.time()\n",
    "transpose(matrix_list_1000)\n",
    "executionTime = (time.time() - startTime)\n",
    "print('Execution time in seconds: ' + str(executionTime))"
   ]
  },
  {
   "cell_type": "code",
   "execution_count": 49,
   "metadata": {},
   "outputs": [
    {
     "output_type": "stream",
     "name": "stdout",
     "text": [
      "Execution time in seconds: 0.00026798248291015625\n",
      "Execution time in seconds: 0.014124870300292969\n",
      "Execution time in seconds: 0.7136189937591553\n"
     ]
    }
   ],
   "source": [
    "# Addition\n",
    "startTime = time.time()\n",
    "mat_add(matrix_list_10,matrix_list_10)\n",
    "executionTime = (time.time() - startTime)\n",
    "print('Execution time in seconds: ' + str(executionTime))\n",
    "\n",
    "startTime = time.time()\n",
    "mat_add(matrix_list_100,matrix_list_100)\n",
    "executionTime = (time.time() - startTime)\n",
    "print('Execution time in seconds: ' + str(executionTime))\n",
    "\n",
    "startTime = time.time()\n",
    "mat_add(matrix_list_1000,matrix_list_1000)\n",
    "executionTime = (time.time() - startTime)\n",
    "print('Execution time in seconds: ' + str(executionTime))\n",
    "\n"
   ]
  },
  {
   "cell_type": "code",
   "execution_count": 93,
   "metadata": {},
   "outputs": [
    {
     "output_type": "stream",
     "name": "stdout",
     "text": [
      "Execution time in seconds: 0.0021848678588867188\n",
      "Execution time in seconds: 0.4405970573425293\n",
      "Execution time in seconds: 480.40258622169495\n"
     ]
    }
   ],
   "source": [
    "# Multiplikation\n",
    "\n",
    "startTime = time.time()\n",
    "mat_mul(matrix_list_10,matrix_list_10)\n",
    "executionTime = (time.time() - startTime)\n",
    "print('Execution time in seconds: ' + str(executionTime))\n",
    "\n",
    "startTime = time.time()\n",
    "mat_mul(matrix_list_100,matrix_list_100)\n",
    "executionTime = (time.time() - startTime)\n",
    "print('Execution time in seconds: ' + str(executionTime))\n",
    "\n",
    "startTime = time.time()\n",
    "mat_mul(matrix_list_1000,matrix_list_1000)\n",
    "executionTime = (time.time() - startTime)\n",
    "print('Execution time in seconds: ' + str(executionTime))"
   ]
  },
  {
   "cell_type": "code",
   "execution_count": null,
   "metadata": {},
   "outputs": [],
   "source": []
  }
 ]
}