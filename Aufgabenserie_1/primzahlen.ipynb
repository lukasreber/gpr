{
 "metadata": {
  "language_info": {
   "codemirror_mode": {
    "name": "ipython",
    "version": 3
   },
   "file_extension": ".py",
   "mimetype": "text/x-python",
   "name": "python",
   "nbconvert_exporter": "python",
   "pygments_lexer": "ipython3",
   "version": "2.7.16-final"
  },
  "orig_nbformat": 2,
  "kernelspec": {
   "name": "98c03951-0aea-4c4f-90b5-a24bf33cb7d0",
   "display_name": "'Python Interactive'",
   "language": "python"
  }
 },
 "nbformat": 4,
 "nbformat_minor": 2,
 "cells": [
  {
   "source": [
    "## Aufgabe 1 - Einfacher Primzahltest\n"
   ],
   "cell_type": "markdown",
   "metadata": {}
  },
  {
   "cell_type": "code",
   "execution_count": 31,
   "metadata": {},
   "outputs": [
    {
     "output_type": "execute_result",
     "data": {
      "text/plain": [
       "True"
      ]
     },
     "metadata": {},
     "execution_count": 31
    }
   ],
   "source": [
    "def is_prime(n):\n",
    "    if n == 2: return True\n",
    "    if n < 2: return False\n",
    "    for i in range(2,n-1):\n",
    "        if n%i == 0: return False\n",
    "    return True\n",
    "\n",
    "is_prime(37)\n"
   ]
  },
  {
   "source": [
    "## Aufgabe 2 - Liste der Primzahlem im Bereich 2 bis n\n",
    "\n",
    "Die Lösung von Aufgabe 1 kann man benutzen (d.h. die Funktion is_prime aufrufen), um eine Liste aller Primzahlen im Bereich ab 2 bis zu einer Obergrenze n zu berechnen.\n"
   ],
   "cell_type": "markdown",
   "metadata": {}
  },
  {
   "cell_type": "code",
   "execution_count": 34,
   "metadata": {},
   "outputs": [
    {
     "output_type": "execute_result",
     "data": {
      "text/plain": [
       "[2, 3, 5, 7, 11, 13, 17, 19, 23, 29, 31, 37, 41, 43, 47]"
      ]
     },
     "metadata": {},
     "execution_count": 34
    }
   ],
   "source": [
    "def all_primes(n):\n",
    "    l = []\n",
    "    for i in range(n):\n",
    "        if is_prime(i):\n",
    "            l.append(i)\n",
    "    return l\n",
    "\n",
    "all_primes(50)\n"
   ]
  },
  {
   "cell_type": "code",
   "execution_count": 36,
   "metadata": {},
   "outputs": [
    {
     "output_type": "execute_result",
     "data": {
      "text/plain": [
       "[2, 3, 5, 7, 11, 13, 17, 19, 23, 29, 31, 37, 41, 43, 47]"
      ]
     },
     "metadata": {},
     "execution_count": 36
    }
   ],
   "source": [
    "# using list comprehension\n",
    "[i for i in range(50) if is_prime(i)]"
   ]
  },
  {
   "source": [
    "## Aufgabe 3 - Sieb des Eratosthenes"
   ],
   "cell_type": "markdown",
   "metadata": {}
  },
  {
   "cell_type": "code",
   "execution_count": 66,
   "metadata": {},
   "outputs": [
    {
     "output_type": "execute_result",
     "data": {
      "text/plain": [
       "[2, 3, 5, 7, 11, 13, 17, 19, 23, 29, 31, 37, 41, 43, 47]"
      ]
     },
     "metadata": {},
     "execution_count": 66
    }
   ],
   "source": [
    "def eratosthenes(n):\n",
    "    l = list(range(2,n+1))\n",
    "    for i in l:\n",
    "        rm = list(range(i+i,n+1,i)) # create list of numbers to remove\n",
    "        l = [item for item in l if item not in rm] # remove these numbers from original list\n",
    "    return l\n",
    "eratosthenes(50)\n"
   ]
  },
  {
   "source": [
    "## Aufgabe 4 - Abstände zwischen Primzahlen"
   ],
   "cell_type": "markdown",
   "metadata": {}
  },
  {
   "cell_type": "code",
   "execution_count": 123,
   "metadata": {},
   "outputs": [
    {
     "output_type": "execute_result",
     "data": {
      "text/plain": [
       "[1, 2, 2, 4, 2, 4, 2, 4, 6, 2, 6, 4, 2, 4, 6, 6, 2, 6, 4, 2, 6, 4, 6, 8]"
      ]
     },
     "metadata": {},
     "execution_count": 123
    }
   ],
   "source": [
    "def distances(l):\n",
    "    newlist = []\n",
    "    for index,item in enumerate(l):\n",
    "        try:\n",
    "            newlist.append(l[index+1]-l[index])\n",
    "        except:\n",
    "            return newlist\n",
    "    return newlist\n",
    "\n",
    "distances(eratosthenes(100))"
   ]
  },
  {
   "source": [
    "## Aufgabe 5 - Heuristik der Abstände zwischen Primzahlen"
   ],
   "cell_type": "markdown",
   "metadata": {}
  },
  {
   "cell_type": "code",
   "execution_count": 156,
   "metadata": {},
   "outputs": [
    {
     "output_type": "stream",
     "name": "stdout",
     "text": [
      "[1, 2, 4, 6, 8]\n"
     ]
    },
    {
     "output_type": "execute_result",
     "data": {
      "text/plain": [
       "[(1, 1), (2, 8), (4, 7), (6, 7), (8, 1)]"
      ]
     },
     "metadata": {},
     "execution_count": 156
    }
   ],
   "source": [
    "def heuristic(l):\n",
    "    dist = sorted(list(set(l)))   \n",
    "    res = []\n",
    "    for num in dist:\n",
    "        res.append((num,l.count(num)))\n",
    "    return res\n",
    "    \n",
    "\n",
    "heuristic(distances(eratosthenes(100)))"
   ]
  },
  {
   "cell_type": "code",
   "execution_count": null,
   "metadata": {},
   "outputs": [],
   "source": []
  }
 ]
}