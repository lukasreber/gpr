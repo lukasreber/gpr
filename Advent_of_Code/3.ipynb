{
 "metadata": {
  "language_info": {
   "codemirror_mode": {
    "name": "ipython",
    "version": 3
   },
   "file_extension": ".py",
   "mimetype": "text/x-python",
   "name": "python",
   "nbconvert_exporter": "python",
   "pygments_lexer": "ipython3",
   "version": "3.8.3-final"
  },
  "orig_nbformat": 2,
  "kernelspec": {
   "name": "python3",
   "display_name": "Python 3",
   "language": "python"
  }
 },
 "nbformat": 4,
 "nbformat_minor": 2,
 "cells": [
  {
   "cell_type": "code",
   "execution_count": 200,
   "metadata": {},
   "outputs": [],
   "source": [
    "file = open('trees.txt')\n",
    "input = [line.strip() for line in file]"
   ]
  },
  {
   "cell_type": "code",
   "execution_count": 239,
   "metadata": {},
   "outputs": [
    {
     "output_type": "execute_result",
     "data": {
      "text/plain": [
       "211"
      ]
     },
     "metadata": {},
     "execution_count": 239
    }
   ],
   "source": [
    "def task1(forest):\n",
    "    i = 0\n",
    "    trees = 0\n",
    "    for line in forest:\n",
    "        if line[i] == \"#\":\n",
    "            trees += 1\n",
    "        if i == 30:\n",
    "            i = 2\n",
    "            continue\n",
    "        if i == 29:\n",
    "            i = 1\n",
    "            continue\n",
    "        if i == 28:\n",
    "            i = 0\n",
    "            continue\n",
    "        i+= 3\n",
    "\n",
    "    return trees\n",
    "\n",
    "task1(input)"
   ]
  },
  {
   "cell_type": "code",
   "execution_count": 271,
   "metadata": {},
   "outputs": [
    {
     "output_type": "execute_result",
     "data": {
      "text/plain": [
       "3584591857"
      ]
     },
     "metadata": {},
     "execution_count": 271
    }
   ],
   "source": [
    "# create cyclic iteration with modulo\n",
    "def task2(forest,step,odd=False):\n",
    "    step = step\n",
    "    i = 0\n",
    "    trees = 0\n",
    "    if odd:\n",
    "        del forest[1::2]\n",
    "    length = len(forest[0])\n",
    "    for line in forest:\n",
    "        if line[i] == \"#\":\n",
    "            trees += 1\n",
    "        i = (i + step) % length\n",
    "    return trees\n",
    "\n",
    "task2(input,3) * task2(input,1) * task2(input,5) * task2(input,7) * task2(input,1,True)"
   ]
  },
  {
   "cell_type": "code",
   "execution_count": null,
   "metadata": {},
   "outputs": [],
   "source": []
  }
 ]
}