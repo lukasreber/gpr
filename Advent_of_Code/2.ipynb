{
 "metadata": {
  "language_info": {
   "codemirror_mode": {
    "name": "ipython",
    "version": 3
   },
   "file_extension": ".py",
   "mimetype": "text/x-python",
   "name": "python",
   "nbconvert_exporter": "python",
   "pygments_lexer": "ipython3",
   "version": "3.8.3-final"
  },
  "orig_nbformat": 2,
  "kernelspec": {
   "name": "python3",
   "display_name": "Python 3",
   "language": "python"
  }
 },
 "nbformat": 4,
 "nbformat_minor": 2,
 "cells": [
  {
   "cell_type": "code",
   "execution_count": 13,
   "metadata": {},
   "outputs": [],
   "source": [
    "file = open('pwds.txt')\n",
    "l = []\n",
    "for line in file:\n",
    "    range,letter,pwd = line.strip().split(' ')\n",
    "    l += [[range,letter,pwd]]"
   ]
  },
  {
   "cell_type": "code",
   "execution_count": 32,
   "metadata": {
    "tags": []
   },
   "outputs": [],
   "source": [
    "def task2(l):\n",
    "    correct = 0\n",
    "    wrong = 0\n",
    "    for line in l:\n",
    "        # count occurences of letter\n",
    "        n = line[2].count(line[1][0])\n",
    "        min,max = line[0].split('-')\n",
    "        min = int(min)\n",
    "        max = int(max)\n",
    "        if n >= min and n <= max:\n",
    "            correct += 1\n",
    "        else:\n",
    "            wrong += 1\n",
    "        \n",
    "    return correct,wrong"
   ]
  },
  {
   "cell_type": "code",
   "execution_count": 33,
   "metadata": {},
   "outputs": [
    {
     "output_type": "execute_result",
     "data": {
      "text/plain": [
       "(469, 531)"
      ]
     },
     "metadata": {},
     "execution_count": 33
    }
   ],
   "source": [
    "task2(l)"
   ]
  },
  {
   "cell_type": "code",
   "execution_count": 63,
   "metadata": {},
   "outputs": [],
   "source": [
    "def task2_1(l):\n",
    "    valid = 0\n",
    "    for line in l:\n",
    "        pos1,pos2 = line[0].split('-')\n",
    "        pos1 = int(pos1)\n",
    "        pos2 = int(pos2)\n",
    "        if (line[2][pos1-1] == line[1][0]) ^ (line[2][pos2-1] == line[1][0]): # ^ stands for xor\n",
    "            valid += 1\n",
    "    return valid"
   ]
  },
  {
   "cell_type": "code",
   "execution_count": 64,
   "metadata": {
    "tags": []
   },
   "outputs": [
    {
     "output_type": "execute_result",
     "data": {
      "text/plain": [
       "267"
      ]
     },
     "metadata": {},
     "execution_count": 64
    }
   ],
   "source": [
    "task2_1(l)"
   ]
  },
  {
   "cell_type": "code",
   "execution_count": null,
   "metadata": {},
   "outputs": [],
   "source": []
  }
 ]
}