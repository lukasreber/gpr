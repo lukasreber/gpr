{
 "metadata": {
  "language_info": {
   "codemirror_mode": {
    "name": "ipython",
    "version": 3
   },
   "file_extension": ".py",
   "mimetype": "text/x-python",
   "name": "python",
   "nbconvert_exporter": "python",
   "pygments_lexer": "ipython3",
   "version": "3.8.3-final"
  },
  "orig_nbformat": 2,
  "kernelspec": {
   "name": "python3",
   "display_name": "Python 3",
   "language": "python"
  }
 },
 "nbformat": 4,
 "nbformat_minor": 2,
 "cells": [
  {
   "cell_type": "code",
   "execution_count": 118,
   "metadata": {},
   "outputs": [],
   "source": [
    "file = open('numbers.txt')\n",
    "numbers = [int(line.strip()) for line in file]"
   ]
  },
  {
   "cell_type": "code",
   "execution_count": 116,
   "metadata": {
    "tags": []
   },
   "outputs": [],
   "source": [
    "# create copy of numbers\n",
    "def task1(num):\n",
    "    # copy of number list\n",
    "    nc = num[:]\n",
    "    for n in num: \n",
    "        for i in nc:\n",
    "            if n+i == 2020:\n",
    "                return n,i,n*i\n",
    "        # with each run, remove the current number from the list\n",
    "        nc.remove(n)\n",
    "    return \"no combination which results in 2020\"\n"
   ]
  },
  {
   "cell_type": "code",
   "execution_count": 117,
   "metadata": {},
   "outputs": [
    {
     "output_type": "execute_result",
     "data": {
      "text/plain": [
       "(547, 1473, 805731)"
      ]
     },
     "metadata": {},
     "execution_count": 117
    }
   ],
   "source": [
    "task1(numbers)\n"
   ]
  },
  {
   "cell_type": "code",
   "execution_count": 114,
   "metadata": {},
   "outputs": [],
   "source": [
    "def task1_2(num):\n",
    "    nc = num[:]\n",
    "    nc2 = num[:]\n",
    "    for x in num:\n",
    "        for y in nc:\n",
    "            for z in nc2:\n",
    "                if x+y+z == 2020:\n",
    "                    return x,y,z,x*y*z\n",
    "        nc.pop(0)\n",
    "    return \"no combination which results in 2020\"\n",
    "\n",
    "    "
   ]
  },
  {
   "cell_type": "code",
   "execution_count": 115,
   "metadata": {
    "tags": []
   },
   "outputs": [
    {
     "output_type": "execute_result",
     "data": {
      "text/plain": [
       "(438, 360, 1222, 192684960)"
      ]
     },
     "metadata": {},
     "execution_count": 115
    }
   ],
   "source": [
    "task1_2(numbers)"
   ]
  },
  {
   "cell_type": "code",
   "execution_count": null,
   "metadata": {},
   "outputs": [],
   "source": []
  }
 ]
}